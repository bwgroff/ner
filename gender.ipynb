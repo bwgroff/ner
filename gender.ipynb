{
 "metadata": {
  "name": "",
  "signature": "sha256:bbeb6a50dac7cd766d6c58c34d82d224d606580fc4e7506a048f4adf98ac4253"
 },
 "nbformat": 3,
 "nbformat_minor": 0,
 "worksheets": [
  {
   "cells": [
    {
     "cell_type": "code",
     "collapsed": false,
     "input": [
      "from collections import defaultdict\n",
      "import string\n",
      "import nltk"
     ],
     "language": "python",
     "metadata": {},
     "outputs": [],
     "prompt_number": 1
    },
    {
     "cell_type": "code",
     "collapsed": false,
     "input": [
      "table = string.maketrans(\"\",\"\")\n",
      "def no_punc(w):\n",
      "    # N.B.: Will cause trouble with names containing punctuation\n",
      "    return w.translate(table, string.punctuation)\n",
      "\n",
      "no_punc(\"':;N[ame,\")"
     ],
     "language": "python",
     "metadata": {},
     "outputs": [
      {
       "metadata": {},
       "output_type": "pyout",
       "prompt_number": 2,
       "text": [
        "'Name'"
       ]
      }
     ],
     "prompt_number": 2
    },
    {
     "cell_type": "code",
     "collapsed": false,
     "input": [
      "def long_names(words, i):\n",
      "    # This finds names longer than a single word and reports them back and how many skips\n",
      "    # are needed to get to the proper next position.\n",
      "    # N.B.: Middle initials not supported\n",
      "    words.append(\" \")\n",
      "    skip_count = 0\n",
      "    full_name = [words[i]]\n",
      "    while words[i + skip_count][-1] not in string.punctuation and words[i + skip_count + 1].istitle():\n",
      "        skip_count += 1\n",
      "    return \" \".join([no_punc(w) for w in words[i:i+skip_count+1]]), skip_count\n",
      "\n",
      "long_names(\"Hello there Bradley Williams Groff, Data Scientist\".split(), 2)"
     ],
     "language": "python",
     "metadata": {},
     "outputs": [
      {
       "metadata": {},
       "output_type": "pyout",
       "prompt_number": 3,
       "text": [
        "('Bradley Williams Groff', 2)"
       ]
      }
     ],
     "prompt_number": 3
    },
    {
     "cell_type": "code",
     "collapsed": false,
     "input": [
      "def is_name(word, namebank, i, tags):\n",
      "    # Checks whether the word in question is a part of speech which could possibly be a name\n",
      "    # and if it matches a known name.\n",
      "    return word in namebank and tags[i][1].startswith(\"NN\")"
     ],
     "language": "python",
     "metadata": {},
     "outputs": [],
     "prompt_number": 31
    },
    {
     "cell_type": "code",
     "collapsed": false,
     "input": [
      "def possible_names(s):\n",
      "    # Extracts names based on matching a title or matching against a table of names.\n",
      "    # Requires proper capitalization. Names which are not fully capitalized will not work properly.\n",
      "    # e.g Pierre de la Harpe ==> Pierre vs. Pierre De La Harpe ==> Pierre De La Harpe\n",
      "    # Also, Dr. Pepper.\n",
      "    words = nltk.word_tokenize(s)\n",
      "    names = []\n",
      "    skip_count = 0\n",
      "    pos_tags = nltk.pos_tag(nltk.word_tokenize(s))\n",
      "    for i, word in enumerate(words):\n",
      "        if word[0] == word[0].lower() or skip_count > 0:\n",
      "            skip_count -= 1\n",
      "            continue\n",
      "        else:\n",
      "            name = None\n",
      "            if word in [\"Ms.\", \"Mrs.\", \"Mr.\", \"Dr.\"]:\n",
      "                name, skip_count = long_names(words, i + 1)\n",
      "                skip_count += 1\n",
      "                name = word + \" \" + name\n",
      "            else:\n",
      "                clean_w = no_punc(word)\n",
      "                if is_name(clean_w, namebank, i, pos_tags):\n",
      "                    # the clause above is in a particular order for speed\n",
      "                    name, skip_count = long_names(words,i)\n",
      "            if name: names.append([name, i])\n",
      "    return names"
     ],
     "language": "python",
     "metadata": {},
     "outputs": [],
     "prompt_number": 32
    },
    {
     "cell_type": "code",
     "collapsed": false,
     "input": [
      "def gender_from_context(i, words, namebank):\n",
      "    # This seeks outward from the target word until it finds a gender indicating word and reports that gender back.\n",
      "    # Tolerates ties.\n",
      "    # Will have trouble with Drs. with 2 first names e.g. Dr. William Ashley will be guessed as either\n",
      "    # male or female depending on whether it is written Dr. William Ashley or Dr. Ashley\n",
      "    if words[i] == \"Dr.\" and words[i+1] in namebank.keys():\n",
      "        return namebank[words[i+1]]\n",
      "    gender_indicators = defaultdict(int)\n",
      "    gender_indicators.update({\"his\": 1, \"he\": 1, \"her\": -1, \"hers\": -1, \"she\": -1})\n",
      "    right = left = 0\n",
      "    bounds = [-1 * i, len(words) - i - 1]\n",
      "    gender = 0\n",
      "    while (left > bounds[0] or right < bounds[1]) and gender == 0:\n",
      "        left -= 1\n",
      "        right += 1\n",
      "        if left >= bounds[0]:\n",
      "            gender += gender_indicators[words[i + left]]\n",
      "        if right <= bounds[1]:\n",
      "            gender += gender_indicators[words[i + right]]\n",
      "    return 1 / (1 + 2.0**(-2.0 * gender))"
     ],
     "language": "python",
     "metadata": {},
     "outputs": [],
     "prompt_number": 40
    },
    {
     "cell_type": "code",
     "collapsed": false,
     "input": [
      "def build_namebank():\n",
      "    # Loads census data indicated gender splits for each name\n",
      "    names_male = open(\"dist.male.first\")\n",
      "    names_female = open(\"dist.female.first\")\n",
      "    names_dict = defaultdict(lambda: [0, 0])\n",
      "    \n",
      "    next_line = names_male.readline()\n",
      "    while next_line:\n",
      "        split_line = next_line.split()\n",
      "        names_dict[split_line[0].title()][0] += float(split_line[1])\n",
      "        next_line = next(names_male, None)\n",
      "        \n",
      "    next_line = names_female.readline()\n",
      "    while next_line:\n",
      "        split_line = next_line.split()\n",
      "        names_dict[split_line[0].title()][1] += float(split_line[1])\n",
      "        next_line = next(names_female, None)\n",
      "        \n",
      "    name_freqs = defaultdict(lambda: 0.49)\n",
      "    for key in names_dict.keys():\n",
      "        name_freqs[key] = names_dict[key][0] / (names_dict[key][0] + names_dict[key][1])\n",
      "    return name_freqs, names_dict"
     ],
     "language": "python",
     "metadata": {},
     "outputs": [],
     "prompt_number": 41
    },
    {
     "cell_type": "code",
     "collapsed": false,
     "input": [
      "def gender_by_title(title, i, words, namebank):\n",
      "    # Chooses gender given title information\n",
      "    if title == \"Ms.\" or title == \"Mrs.\":\n",
      "        if words[i + 1] == \"Doubtfire\":\n",
      "            gender_odds = 1\n",
      "        else:\n",
      "            gender_odds = 0\n",
      "    elif title == \"Mr.\":\n",
      "        gender_odds = 1\n",
      "    elif title == \"Dr.\":\n",
      "        gender_odds = gender_from_context(i, words, namebank)\n",
      "    return gender_odds"
     ],
     "language": "python",
     "metadata": {},
     "outputs": [],
     "prompt_number": 42
    },
    {
     "cell_type": "code",
     "collapsed": false,
     "input": [
      "namebank, relative_namebank = build_namebank()"
     ],
     "language": "python",
     "metadata": {},
     "outputs": [],
     "prompt_number": 43
    },
    {
     "cell_type": "code",
     "collapsed": false,
     "input": [
      "s = \"Boston is making some significant changes to its lineup on Sunday, giving David Ortiz and Christian Vazquez the day off while giving two new faces the chance to make their Red Sox debuts.\"\n",
      "possible_names(s)"
     ],
     "language": "python",
     "metadata": {},
     "outputs": [
      {
       "metadata": {},
       "output_type": "pyout",
       "prompt_number": 44,
       "text": [
        "[['Sunday', 10], ['David Ortiz', 13], ['Christian Vazquez', 16]]"
       ]
      }
     ],
     "prompt_number": 44
    },
    {
     "cell_type": "code",
     "collapsed": false,
     "input": [
      "def gender_guess(names, s, namebank, verbose = False):\n",
      "    # Uses a very basic title or name lookup.\n",
      "    genders = []\n",
      "    for name in names:\n",
      "        if name[0][:4] in [\"Ms. \", \"Mrs.\", \"Mr. \", \"Dr. \"]:\n",
      "            gender = gender_by_title(name[0][:4].split()[0], name[1], nltk.word_tokenize(s), namebank)\n",
      "        else:\n",
      "            gender = namebank[name[0].split()[0]]\n",
      "        genders.append({\"name\": name[0], \"prob\": gender}) \n",
      "\n",
      "    if verbose:\n",
      "        for pair in genders:\n",
      "            print \"Name:  {0}\".format(pair[\"name\"]).ljust(50) + \"Male Odds:  {0}\".format(pair[\"prob\"])\n",
      "    return genders"
     ],
     "language": "python",
     "metadata": {},
     "outputs": [],
     "prompt_number": 89
    },
    {
     "cell_type": "code",
     "collapsed": false,
     "input": [
      "s = \"Alex and Marcos Jimenez are cool but Mrs. Doubtfire is cooler and Mr. Sherlock Holmes is also cool. He is not as great as Elvis. Don't forget about England or Paris\"\n",
      "gender_guess(possible_names(s), s, namebank)"
     ],
     "language": "python",
     "metadata": {},
     "outputs": [
      {
       "metadata": {},
       "output_type": "pyout",
       "prompt_number": 90,
       "text": [
        "[{'name': 'Alex', 'prob': 0.9829059829059829},\n",
        " {'name': 'Marcos Jimenez', 'prob': 1.0},\n",
        " {'name': 'Mrs. Doubtfire', 'prob': 1},\n",
        " {'name': 'Mr. Sherlock Holmes', 'prob': 1},\n",
        " {'name': 'Elvis', 'prob': 1.0},\n",
        " {'name': 'Paris', 'prob': 0.5714285714285714}]"
       ]
      }
     ],
     "prompt_number": 90
    },
    {
     "cell_type": "code",
     "collapsed": false,
     "input": [
      "def chunker(s):\n",
      "    return nltk.ne_chunk(nltk.pos_tag(nltk.word_tokenize(s)), binary=False)\n",
      "\n",
      "print chunker(s)"
     ],
     "language": "python",
     "metadata": {},
     "outputs": [
      {
       "output_type": "stream",
       "stream": "stdout",
       "text": [
        "(S\n",
        "  (PERSON Alex/NNP)\n",
        "  and/CC\n",
        "  (PERSON Marcos/NNP Jimenez/NNP)\n",
        "  are/VBP\n",
        "  cool/JJ\n",
        "  but/CC\n",
        "  Mrs./NNP\n",
        "  Doubtfire/NNP\n",
        "  is/VBZ\n",
        "  cooler/JJR\n",
        "  and/CC\n",
        "  (PERSON Mr./NNP Sherlock/NNP Holmes/NNP)\n",
        "  is/VBZ\n",
        "  also/RB\n",
        "  cool./NNP\n",
        "  He/NNP\n",
        "  is/VBZ\n",
        "  not/RB\n",
        "  as/IN\n",
        "  great/JJ\n",
        "  as/IN\n",
        "  Elvis./NNP\n",
        "  Do/NNP\n",
        "  n't/RB\n",
        "  forget/VB\n",
        "  about/IN\n",
        "  (GPE England/NNP)\n",
        "  or/CC\n",
        "  (GPE Paris/NNP))\n"
       ]
      }
     ],
     "prompt_number": 15
    },
    {
     "cell_type": "code",
     "collapsed": false,
     "input": [
      "def chunk_names(s):\n",
      "    nertree = chunker(s)\n",
      "    names = [\" \".join([y[0] for y in x.leaves()]) for x in nertree if type(x)==nltk.tree.Tree and x.node==\"PERSON\"]\n",
      "    return set(names)"
     ],
     "language": "python",
     "metadata": {},
     "outputs": [],
     "prompt_number": 16
    },
    {
     "cell_type": "code",
     "collapsed": false,
     "input": [
      "print chunk_names(s)"
     ],
     "language": "python",
     "metadata": {},
     "outputs": [
      {
       "output_type": "stream",
       "stream": "stdout",
       "text": [
        "set(['Marcos Jimenez', 'Alex', 'Mr. Sherlock Holmes'])\n"
       ]
      }
     ],
     "prompt_number": 17
    },
    {
     "cell_type": "code",
     "collapsed": false,
     "input": [
      "ieer = nltk.corpus.ieer\n",
      "ieer.fileids()\n",
      "p_docs = ieer.parsed_docs(\"NYT_19980315\")\n",
      "docs = ieer.docs(\"NYT_19980315\")\n",
      "\n",
      "def doc2sentences(i):\n",
      "    split1 = docs[i].split(\">\")\n",
      "    split2 = [sp.split(\"<\")[0] for sp in split1]\n",
      "    fused = ''.join(split2)\n",
      "    sentences = '\\n'.join([x + '.' for x in ' '.join(fused.split()).split('.')])\n",
      "    return sentences"
     ],
     "language": "python",
     "metadata": {},
     "outputs": [],
     "prompt_number": 65
    },
    {
     "cell_type": "markdown",
     "metadata": {},
     "source": [
      "test_data_file = open(\"testdata.txt\",\"a\")\n",
      "for i in range(1,13):\n",
      "    test_data_file.write(doc2sentences(i))\n",
      "test_data_file.close()"
     ]
    },
    {
     "cell_type": "code",
     "collapsed": false,
     "input": [
      "test_data = open(\"testdata.txt\")\n",
      "test_sentences = test_data.readlines()\n",
      "\n",
      "unlabeled = open(\"unlabeled.txt\")\n",
      "unlabeled_sents = unlabeled.readlines()\n",
      "for i in range(46):\n",
      "    print \"Actual:\"\n",
      "    print [[x.split(\"IS\")[0], x.split(\"IS\")[1].split()[0]] for x in test_sentences[i].split(\"<\")[1:]]\n",
      "    print \"Predicted:\"\n",
      "    print [[x[\"name\"], x[\"prob\"]] for x in gender_guess(possible_names(unlabeled_sents[i]), unlabeled_sents[i], namebank)]\n",
      "    print \"-\"*20"
     ],
     "language": "python",
     "metadata": {},
     "outputs": [
      {
       "output_type": "stream",
       "stream": "stdout",
       "text": [
        "Actual:\n",
        "[[' Bob Edwards ', 'MALE']]\n",
        "Predicted:\n",
        "[['Bob Edwards', 1.0]]\n",
        "--------------------\n",
        "Actual:\n",
        "[[\" Edwards' \", 'MALE']]\n",
        "Predicted:\n",
        "[]"
       ]
      },
      {
       "output_type": "stream",
       "stream": "stdout",
       "text": [
        "\n",
        "--------------------\n",
        "Actual:\n",
        "[[' Edwards ', 'MALE']]\n",
        "Predicted:\n",
        "[]"
       ]
      },
      {
       "output_type": "stream",
       "stream": "stdout",
       "text": [
        "\n",
        "--------------------\n",
        "Actual:\n",
        "[[' Robert Siegel ', 'MALE'], [' Linda Wertheimer ', 'FEMALE,'], [' Ann Taylor ', 'FEMALE']]\n",
        "Predicted:\n",
        "[['Robert Siegel', 0.9974611234528721], ['Linda Wertheimer', 0.0], ['Ann Taylor', 0.0]]"
       ]
      },
      {
       "output_type": "stream",
       "stream": "stdout",
       "text": [
        "\n",
        "--------------------\n",
        "Actual:\n",
        "[[' Edwards ', 'MALE,']]\n",
        "Predicted:\n",
        "[]\n",
        "--------------------\n",
        "Actual:\n",
        "[[' Edwards ', 'MALE']]\n",
        "Predicted:\n",
        "[]\n",
        "--------------------\n",
        "Actual:\n",
        "[[\" Edwards' \", 'MALE']]\n",
        "Predicted:\n",
        "[]"
       ]
      },
      {
       "output_type": "stream",
       "stream": "stdout",
       "text": [
        "\n",
        "--------------------\n",
        "Actual:\n",
        "[[' Siegel ', 'MALE,'], [' Ms. Wertheimer ', 'FEMALE'], [' Ms. Taylor ', 'FEMALE.']]\n",
        "Predicted:\n",
        "[['Ms. Wertheimer', 0], ['Ms. Taylor', 0]]\n",
        "--------------------\n",
        "Actual:\n",
        "[[\" Edwards' \", 'MALE']]\n",
        "Predicted:\n",
        "[]\n",
        "--------------------\n",
        "Actual:\n",
        "[[' Bill Clinton ', 'MALE'], [' Siegel ', 'MALE'], [' Ms. Wertheimer ', 'FEMALE']]\n",
        "Predicted:\n",
        "[['Bill Clinton', 1.0], ['Ms. Wertheimer', 0]]"
       ]
      },
      {
       "output_type": "stream",
       "stream": "stdout",
       "text": [
        "\n",
        "--------------------\n",
        "Actual:\n",
        "[[' Mara Liasson ', 'FEMALE,'], [' Nina Totenberg ', 'FEMALE,']]\n",
        "Predicted:\n",
        "[['Mara Liasson', 0.0], ['Nina Totenberg', 0.0]]\n",
        "--------------------\n",
        "Actual:\n",
        "[[' Siegel ', 'MALE'], [' Ms. Wertheimer ', 'FEMALE']]\n",
        "Predicted:\n",
        "[['Ms. Wertheimer', 0]]"
       ]
      },
      {
       "output_type": "stream",
       "stream": "stdout",
       "text": [
        "\n",
        "--------------------\n",
        "Actual:\n",
        "[[' Ms. Wertheimer ', 'FEMALE'], [' Ms. Taylor ', 'FEMALE,']]\n",
        "Predicted:\n",
        "[['Ms. Wertheimer', 0], ['Ms. Taylor', 0]]\n",
        "--------------------\n",
        "Actual:\n",
        "[[' Siegel ', 'MALE']]\n",
        "Predicted:\n",
        "[]\n",
        "--------------------\n",
        "Actual:\n",
        "[[' Dick Cavett ', 'MALE'], [\" Siegel's \", 'MALE']]\n",
        "Predicted:\n",
        "[['Dick Cavett', 1.0]]"
       ]
      },
      {
       "output_type": "stream",
       "stream": "stdout",
       "text": [
        "\n",
        "--------------------\n",
        "Actual:\n",
        "[[' Terry Gross ', 'FEMALE']]\n",
        "Predicted:\n",
        "[['Terry Gross', 0.7953964194373401]]\n",
        "--------------------\n",
        "Actual:\n",
        "[[' Ms. Gross ', 'FEMALE,']]\n",
        "Predicted:\n",
        "[['Ms. Gross', 0]]"
       ]
      },
      {
       "output_type": "stream",
       "stream": "stdout",
       "text": [
        "\n",
        "--------------------\n",
        "Actual:\n",
        "[[' Ms. Gross ', 'FEMALE']]\n",
        "Predicted:\n",
        "[['Ms. Gross', 0]]\n",
        "--------------------\n",
        "Actual:\n",
        "[[' Eddie Miller ', 'MALE,']]\n",
        "Predicted:\n",
        "[['Eddie Miller', 0.9290322580645161]]"
       ]
      },
      {
       "output_type": "stream",
       "stream": "stdout",
       "text": [
        "\n",
        "--------------------\n",
        "Actual:\n",
        "[[\" Ms. Gross' \", 'FEMALE']]\n",
        "Predicted:\n",
        "[['Ms. Gross', 0], ['Man', 0.8]]\n",
        "--------------------\n",
        "Actual:\n",
        "[[' Miller ', 'MALE'], [' Ms. Gross ', 'FEMALE']]\n",
        "Predicted:\n",
        "[['Ms. Gross', 0]]"
       ]
      },
      {
       "output_type": "stream",
       "stream": "stdout",
       "text": [
        "\n",
        "--------------------\n",
        "Actual:\n",
        "[[' Ms. Gross ', 'FEMALE'], [' Miller ', 'MALE']]\n",
        "Predicted:\n",
        "[['Ms. Gross', 0]]\n",
        "--------------------\n",
        "Actual:\n",
        "[[' Ms. Gross ', 'FEMALE']]\n",
        "Predicted:\n",
        "[['Ms. Gross', 0]]"
       ]
      },
      {
       "output_type": "stream",
       "stream": "stdout",
       "text": [
        "\n",
        "--------------------\n",
        "Actual:\n",
        "[[\" Dick Clark's \", 'MALE']]\n",
        "Predicted:\n",
        "[['Dick Clark', 1.0]]\n",
        "--------------------\n",
        "Actual:\n",
        "[[' Ms. Gross ', 'FEMALE']]\n",
        "Predicted:\n",
        "[['Ms. Gross', 0]]\n",
        "--------------------\n",
        "Actual:\n",
        "[[\" John Perry Barlow's \", 'MALE']]\n",
        "Predicted:\n",
        "[['John Perry Barlow', 0.9963448065793482]]"
       ]
      },
      {
       "output_type": "stream",
       "stream": "stdout",
       "text": [
        "\n",
        "--------------------\n",
        "Actual:\n",
        "[[' Mike Godwin ', 'MALE,']]\n",
        "Predicted:\n",
        "[['Mike Godwin', 0.9947368421052631]]\n",
        "--------------------\n",
        "Actual:\n",
        "[[' Sidney Blumenthal ', 'MALE,'], [' Matt Drudge, ', 'MALE']]\n",
        "Predicted:\n",
        "[['Sidney Blumenthal', 0.9285714285714286], ['Matt Drudge', 1.0]]"
       ]
      },
      {
       "output_type": "stream",
       "stream": "stdout",
       "text": [
        "\n",
        "--------------------\n",
        "Actual:\n",
        "[[' Drudge ', 'MALE']]\n",
        "Predicted:\n",
        "[['Angeles', 0.0]]\n",
        "--------------------\n",
        "Actual:\n",
        "[[' Cindy Cohn, ', 'FEMALE']]\n",
        "Predicted:\n",
        "[['Cindy Cohn', 0.0]]"
       ]
      },
      {
       "output_type": "stream",
       "stream": "stdout",
       "text": [
        "\n",
        "--------------------\n",
        "Actual:\n",
        "[[' Ms. Cohn, ', 'FEMALE']]\n",
        "Predicted:\n",
        "[['Ms. Cohn', 0]]\n",
        "--------------------\n",
        "Actual:\n",
        "[[' Ms. Cohn ', 'FEMALE']]\n",
        "Predicted:\n",
        "[['Ms. Cohn', 0]]"
       ]
      },
      {
       "output_type": "stream",
       "stream": "stdout",
       "text": [
        "\n",
        "--------------------\n",
        "Actual:\n",
        "[[' Judge Stewart Dalzell ', 'MALE,']]\n",
        "Predicted:\n",
        "[['Stewart Dalzell', 1.0]]\n",
        "--------------------\n",
        "Actual:\n",
        "[[' Jack N. Berkman ', 'MALE,'], [' Lillian R. Berkman ', 'FEMALE'], [' Jonathan Zittrain ', 'MALE']]\n",
        "Predicted:\n",
        "[['Jack N', 0.9968354430379747], ['Lillian R', 0.0], ['Jonathan Zittrain', 1.0]]"
       ]
      },
      {
       "output_type": "stream",
       "stream": "stdout",
       "text": [
        "\n",
        "--------------------\n",
        "Actual:\n",
        "[[' Prof. Charles Nesson ', 'MALE,']]\n",
        "Predicted:\n",
        "[['Charles Nesson', 0.9960758665794637]]\n",
        "--------------------\n",
        "Actual:\n",
        "[[' Lawrence Lessig ', 'MALE,']]\n",
        "Predicted:\n",
        "[['Lawrence Lessig', 0.9964664310954063]]"
       ]
      },
      {
       "output_type": "stream",
       "stream": "stdout",
       "text": [
        "\n",
        "--------------------\n",
        "Actual:\n",
        "[[' James Boyle ', 'MALE'], [' Robert Mergess ', 'MALE,']]\n",
        "Predicted:\n",
        "[['James Boyle', 0.9969951923076924], ['Robert Mergess', 0.9974611234528721]]\n",
        "--------------------\n",
        "Actual:\n",
        "[[' Jack Balkin ', 'MALE,']]\n",
        "Predicted:\n",
        "[['Jack Balkin', 0.9968354430379747]]"
       ]
      },
      {
       "output_type": "stream",
       "stream": "stdout",
       "text": [
        "\n",
        "--------------------\n",
        "Actual:\n",
        "[[' Pam Samuelson ', 'FEMALE,'], [' Mergess ', 'MALE']]\n",
        "Predicted:\n",
        "[['Pam Samuelson', 0.0]]\n",
        "--------------------\n",
        "Actual:\n",
        "[[' Ms. Samuelson ', 'FEMALE,'], [' Clinton ', 'MALE']]\n",
        "Predicted:\n",
        "[['Ms. Samuelson', 0], ['Clinton', 1.0]]"
       ]
      },
      {
       "output_type": "stream",
       "stream": "stdout",
       "text": [
        "\n",
        "--------------------\n",
        "Actual:\n",
        "[[' Ms. Samuelson ', 'FEMALE']]\n",
        "Predicted:\n",
        "[['Ms. Samuelson', 0]]\n",
        "--------------------\n",
        "Actual:\n",
        "[[' Ms. Samuelson ', 'FEMALE']]\n",
        "Predicted:\n",
        "[['Ms. Samuelson', 0]]"
       ]
      },
      {
       "output_type": "stream",
       "stream": "stdout",
       "text": [
        "\n",
        "--------------------\n",
        "Actual:\n",
        "[[' Michael Froomkin ', 'MALE'], [' Dan Burk ', 'MALE']]\n",
        "Predicted:\n",
        "[['Michael Froomkin', 0.9954562665656949], ['Dan Burk', 0.9901960784313726]]\n",
        "--------------------\n",
        "Actual:\n",
        "[[' David Post ', 'MALE,']]\n",
        "Predicted:\n",
        "[['David Post', 0.9974672857745885], ['Temple University Law School', 0.0]]"
       ]
      },
      {
       "output_type": "stream",
       "stream": "stdout",
       "text": [
        "\n",
        "--------------------\n",
        "Actual:\n",
        "[[' Frank Easterbrook ', 'MALE']]\n",
        "Predicted:\n",
        "[['Frank Easterbrook', 0.9965694682675815]]\n",
        "--------------------\n",
        "Actual:\n",
        "[[' Brian Dally ', 'MALE,']]\n",
        "Predicted:\n",
        "[['Brian Dally', 0.9986431478968792]]"
       ]
      },
      {
       "output_type": "stream",
       "stream": "stdout",
       "text": [
        "\n",
        "--------------------\n"
       ]
      }
     ],
     "prompt_number": 92
    },
    {
     "cell_type": "code",
     "collapsed": false,
     "input": [
      "nltk_names = chunk_names(fused)\n",
      "my_names = possible_names(fused)"
     ],
     "language": "python",
     "metadata": {},
     "outputs": [],
     "prompt_number": 24
    },
    {
     "cell_type": "code",
     "collapsed": false,
     "input": [
      "print nltk_names\n",
      "print \"\\n\"\n",
      "print my_names"
     ],
     "language": "python",
     "metadata": {},
     "outputs": [
      {
       "output_type": "stream",
       "stream": "stdout",
       "text": [
        "set(['Fresh Air', 'Robert Siegel', 'Linda Wertheimer', 'Eddie Miller', 'Gross', 'Ann Taylor', 'Terry Gross', 'Bob Edwards', 'Edwards', 'Siegel', 'Bill Clinton', 'Dick Clark', 'Nina Totenberg', 'Miller', 'Mara Liasson', 'Dick Cavett'])\n",
        "\n",
        "\n",
        "[['Bob Edwards', 26], ['Robert Siegel', 198], ['Linda Wertheimer', 201], ['Ann Taylor', 209], ['Ms. Wertheimer', 446], ['Ms. Taylor', 449], ['Bill Clinton', 497], ['Ms. Wertheimer', 504], ['Mara Liasson', 542], ['Nina Totenberg', 551], ['Ms. Wertheimer', 570], ['Ms. Wertheimer', 617], ['Ms. Taylor', 625], ['Dick Cavett', 730], ['Terry Gross', 935], ['Ms. Gross', 959], ['Ms. Gross', 1038], ['In', 1152], ['Eddie Miller', 1157], ['Ms. Gross', 1240], ['Man', 1263], ['Ms. Gross', 1301], ['Ms. Gross', 1313], ['Ms. Gross', 1356], ['Dick Clark', 1385], ['Ms. Gross', 1409]]\n"
       ]
      }
     ],
     "prompt_number": 26
    },
    {
     "cell_type": "code",
     "collapsed": false,
     "input": [
      "print gender_guess(my_names, fused, namebank)"
     ],
     "language": "python",
     "metadata": {},
     "outputs": [
      {
       "output_type": "stream",
       "stream": "stdout",
       "text": [
        "Name:  Bob Edwards                                Male Odds:  1.0\n",
        "Name:  Robert Siegel                              Male Odds:  0.997461123453\n",
        "Name:  Linda Wertheimer                           Male Odds:  0.0\n",
        "Name:  Ann Taylor                                 Male Odds:  0.0\n",
        "Name:  Ms. Wertheimer                             Male Odds:  0\n",
        "Name:  Ms. Taylor                                 Male Odds:  0\n",
        "Name:  Bill Clinton                               Male Odds:  1.0\n",
        "Name:  Ms. Wertheimer                             Male Odds:  0\n",
        "Name:  Mara Liasson                               Male Odds:  0.0\n",
        "Name:  Nina Totenberg                             Male Odds:  0.0\n",
        "Name:  Ms. Wertheimer                             Male Odds:  0\n",
        "Name:  Ms. Wertheimer                             Male Odds:  0\n",
        "Name:  Ms. Taylor                                 Male Odds:  0\n",
        "Name:  Dick Cavett                                Male Odds:  1.0\n",
        "Name:  Terry Gross                                Male Odds:  0.795396419437\n",
        "Name:  Ms. Gross                                  Male Odds:  0\n",
        "Name:  Ms. Gross                                  Male Odds:  0\n",
        "Name:  In                                         Male Odds:  0.0\n",
        "Name:  Eddie Miller                               Male Odds:  0.929032258065\n",
        "Name:  Ms. Gross                                  Male Odds:  0\n",
        "Name:  Man                                        Male Odds:  0.8\n",
        "Name:  Ms. Gross                                  Male Odds:  0\n",
        "Name:  Ms. Gross                                  Male Odds:  0\n",
        "Name:  Ms. Gross                                  Male Odds:  0\n",
        "Name:  Dick Clark                                 Male Odds:  1.0\n",
        "Name:  Ms. Gross                                  Male Odds:  0\n",
        "None\n"
       ]
      }
     ],
     "prompt_number": 22
    },
    {
     "cell_type": "code",
     "collapsed": false,
     "input": [
      "relative_namebank[\"In\"]"
     ],
     "language": "python",
     "metadata": {},
     "outputs": [
      {
       "metadata": {},
       "output_type": "pyout",
       "prompt_number": 23,
       "text": [
        "[0, 0.003]"
       ]
      }
     ],
     "prompt_number": 23
    },
    {
     "cell_type": "markdown",
     "metadata": {},
     "source": [
      "Under the assumptions that our initial data is reliable and that the population in question resembles the intial data, we can make a theoretical assessment of our expectd accuracy."
     ]
    },
    {
     "cell_type": "code",
     "collapsed": true,
     "input": [
      "[[x[0], ' '.join(x[1].leaves())] for x in enumerate(p_docs[0].text) if (type(x[1]) == nltk.tree.Tree) and (x[1].node == \"PERSON\")]"
     ],
     "language": "python",
     "metadata": {},
     "outputs": [
      {
       "metadata": {},
       "output_type": "pyout",
       "prompt_number": 30,
       "text": [
        "[[10, 'Bob Edwards'],\n",
        " [30, 'Edwards'],\n",
        " [106, 'Edwards'],\n",
        " [157, 'Robert Siegel'],\n",
        " [159, 'Linda Wertheimer'],\n",
        " [166, 'Ann Taylor'],\n",
        " [197, 'Edwards'],\n",
        " [241, 'Edwards'],\n",
        " [317, 'Edwards'],\n",
        " [344, 'Edwards'],\n",
        " [376, 'Siegel'],\n",
        " [379, 'Wertheimer'],\n",
        " [382, 'Taylor'],\n",
        " [384, 'Edwards'],\n",
        " [422, 'Bill Clinton'],\n",
        " [425, 'Siegel'],\n",
        " [428, 'Wertheimer'],\n",
        " [459, 'Mara Liasson'],\n",
        " [466, 'Nina Totenberg'],\n",
        " [479, 'Siegel'],\n",
        " [482, 'Wertheimer'],\n",
        " [524, 'Wertheimer'],\n",
        " [531, 'Taylor'],\n",
        " [584, 'Siegel'],\n",
        " [624, 'Dick Cavett'],\n",
        " [626, 'Siegel'],\n",
        " [812, 'Terry Gross'],\n",
        " [833, 'Gross'],\n",
        " [906, 'Gross'],\n",
        " [1007, 'Eddie Miller'],\n",
        " [1038, 'Miller'],\n",
        " [1076, 'Gross'],\n",
        " [1112, 'Miller'],\n",
        " [1125, 'Gross'],\n",
        " [1133, 'Gross'],\n",
        " [1156, 'Miller'],\n",
        " [1172, 'Gross'],\n",
        " [1197, 'Dick Clark'],\n",
        " [1216, 'Gross']]"
       ]
      }
     ],
     "prompt_number": 30
    },
    {
     "cell_type": "code",
     "collapsed": false,
     "input": [
      "threshold = 0.999999999\n",
      "x, y = build_namebank()\n",
      "\n",
      "slam_dunks = [0, 0]\n",
      "for key in x.keys():\n",
      "    if abs(x[key] - 0.5) < threshold/2:\n",
      "        slam_dunks[1] += 1\n",
      "        \n",
      "    if abs(x[key]-0.5) > threshold/2:\n",
      "        slam_dunks[0] += 1\n",
      "\n",
      "print \"Out of the names provided in the data, \" + str(round(100 * float(slam_dunks[0]) / sum(slam_dunks))) + \"% resolve with no ambiguity.\"\n",
      "\n",
      "guesses = [0,0]\n",
      "for key in y.keys():\n",
      "    guesses[0] += max(y[key])\n",
      "    guesses[1] += min(y[key])\n",
      "\n",
      "print \"Overall, the best guess would be correct in \" + str(round(100* guesses[0] / sum(guesses))) + \"% of cases.\""
     ],
     "language": "python",
     "metadata": {},
     "outputs": [
      {
       "output_type": "stream",
       "stream": "stdout",
       "text": [
        "Out of the names provided in the data, 94.0% resolve with no ambiguity.\n",
        "Overall, the best guess would be correct in 99.0% of cases.\n"
       ]
      }
     ],
     "prompt_number": 333
    },
    {
     "cell_type": "heading",
     "level": 1,
     "metadata": {},
     "source": [
      "further thoughts"
     ]
    },
    {
     "cell_type": "markdown",
     "metadata": {},
     "source": [
      "perform NER and word sense disambiguation of names, use the wordsense thing to gender tag every occurence then use the NER to link them and take a vote\n"
     ]
    },
    {
     "cell_type": "markdown",
     "metadata": {},
     "source": [
      "__Unaccounted edge cases:__\n",
      "\n",
      "\"Virginia\" \"Georgia\" \"Dakota\" \"Holly Street\" \"Britain's Daily Mail\" \"McDonald's\" \"Parmesan\" other titles e.g. \"Revd\" \"Sebastian Inlet\" \"Paris Hilton\" \"Florence\"\n",
      "\n",
      "statistically, first and last letters are probably highly indicative for unusual names"
     ]
    },
    {
     "cell_type": "heading",
     "level": 1,
     "metadata": {},
     "source": [
      "Assumptions"
     ]
    },
    {
     "cell_type": "markdown",
     "metadata": {},
     "source": [
      "Proper capitalization and punctuation.\n",
      "\n",
      "Solutions of the type \"from NERPro import NER, GenderIdentifier\" are not allowed."
     ]
    },
    {
     "cell_type": "heading",
     "level": 1,
     "metadata": {},
     "source": [
      "Evaluation Strategy?"
     ]
    },
    {
     "cell_type": "markdown",
     "metadata": {},
     "source": [
      "1. This method will correctly classify captured names according to their male/female relative frequency (note dataset only has top 90% names)\n",
      "2. 3 stage evaluation: name-capture accuracy, gender accuracy, speed (algorithm needs to beat the \"ask a human\" strategy)\n",
      "3. Gender accuracy can be 'theoretically pre-calculated' by checking ratios in table\n",
      "4. Difficulty here is that most names are \"slam dunks\" for classifying gender... it's a class imbalance problem\n",
      "5. Is there a dataset with pre-tagged genders?\n",
      "6. "
     ]
    },
    {
     "cell_type": "heading",
     "level": 1,
     "metadata": {},
     "source": [
      "Future direction for resolving ambiguity / removing limitations"
     ]
    },
    {
     "cell_type": "heading",
     "level": 4,
     "metadata": {},
     "source": [
      "Current limitations:"
     ]
    },
    {
     "cell_type": "markdown",
     "metadata": {},
     "source": [
      "Non-capitalized names and typos: fuzzy match + POS for every position.\n",
      "\n",
      "Should capture rare/unique names and just report 50% chance of being male.\n",
      "\n",
      "For non-singular names, this is guaranteed to fail for the minority: if freq < threshold, check for other indicators"
     ]
    },
    {
     "cell_type": "heading",
     "level": 4,
     "metadata": {},
     "source": [
      "Resolving ambiguity:"
     ]
    },
    {
     "cell_type": "markdown",
     "metadata": {},
     "source": [
      "1. Use nearby pronouns\n",
      "2. Use syntactically related pronouns\n",
      "3. Build a system of name-representations and apply to the context\n",
      "4. Bootstrap a neural net and train exclusively on sentences with known or slam-dunk genders (Matt, Jen) and do something to name\n",
      "    - drawbacks : the net could just learn something about which reps go in which spots\n",
      "    - could just replace names with other names, including permutations of surnames\n",
      "    - other idea - just use random vector in representation space\n",
      "    - randomly switch the gender of the names (making all names ambiguous) forces the net to learn gender from context\n",
      "    - output should be binary pairs (is_name, is_male)\n",
      "    - make sure to train with punctuation, POS if possible\n",
      "    - final system should use the initial thing and fallback to the ANN in cases of any ambiguity\n",
      "5. ANN features - list of (word rep, POS) pairs, include punctuation somehow\n",
      "6. train word2vec on (bow(word), pos(word))?"
     ]
    },
    {
     "cell_type": "heading",
     "level": 1,
     "metadata": {},
     "source": [
      "ToDo"
     ]
    },
    {
     "cell_type": "markdown",
     "metadata": {},
     "source": [
      "1. Write up methods in Scala\n",
      "2. Get name-tagged dataset to benchmark name-capture accuracy (expected ~ 90% with current methods, need to add capture of random capitalized words)\n",
      "3. Find some gender tagged dataset somewhere\n",
      "4. Evaluate speed by applying to lots of sentences\n",
      "5. Current method is slow on large text because POS tagger is run on the whole thing"
     ]
    },
    {
     "cell_type": "code",
     "collapsed": false,
     "input": [],
     "language": "python",
     "metadata": {},
     "outputs": []
    }
   ],
   "metadata": {}
  }
 ]
}